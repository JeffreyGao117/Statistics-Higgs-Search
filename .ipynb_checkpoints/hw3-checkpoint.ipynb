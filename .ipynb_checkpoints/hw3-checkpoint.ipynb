{
 "cells": [
  {
   "cell_type": "markdown",
   "metadata": {},
   "source": [
    "# Homework 3\n",
    "## Problem 1\n",
    "\n",
    "__1A)__ \n",
    "Overall, looking at both bird and human categorizations, algorithm 1 makes fewer mistakes with 8% while algorithm 2 has a misidentification rate of 12%.\n",
    "\n",
    "__1B)__ \n",
    "Given the preference to identify birds correctly as much as possible, algorithm 2 would be better with a lower misidentification rate of birds $\\frac{1}{48}$ while algorithm 1 has a rate of $\\frac{3}{48}$\n",
    "\n",
    "__1C)__ \n",
    "\n",
    "Algorithm 1\n",
    "\n",
    "misID rates:\n",
    "- True Bird, Person = 3/48 $\\approx$ 0.0625\n",
    "- True Person, Bird = 5/52 $\\approx$ 0.0962\n",
    "    \n",
    "|           | True Bird | True Person |\n",
    "|-----------|-----------|-------------|\n",
    "| NN Bird   |     93    |      0      |\n",
    "| NN Person |     6     |      1      |\n",
    "\n",
    "Algorithm 2\n",
    "\n",
    "misID rates:\n",
    "- True Bird, Person = 1/48 $\\approx$ 0.0208\n",
    "- True Person, Bird = 11/52 $\\approx$ 0.2115\n",
    "\n",
    "|           | True Bird | True Person |\n",
    "|-----------|-----------|-------------|\n",
    "| NN Bird   |     97    |      0      |\n",
    "| NN Person |     2     |      1      |"
   ]
  },
  {
   "cell_type": "markdown",
   "metadata": {},
   "source": [
    "## Problem 2\n",
    "__2A)__ Sum of two identical exponential distributions.\n",
    "\n",
    ">Looking at [Wikipedia](https://en.wikipedia.org/wiki/Exponential_distribution#Sum_of_two_independent_exponential_random_variables), we can find the pdf of the sum of two exponential variables $f_{X_1+X_2}(z) = \\frac{\\lambda_1\\lambda_2}{\\lambda_1-\\lambda_2}(e^{-\\lambda_1z}-e^{-\\lambda_2z})$ stating that \"probability distribution function (PDF) of a sum of two independent random variables is the convolution of their individual PDFs\" which aligns with the numerical approach from Lab 2.\n",
    "\n",
    "__2B)__ Pdf of the ratio of two zero-mean unity variance normal distributions $X_1/X_2$.\n",
    "\n",
    ">We are given zero-mean $\\mu = 0$ and unity variance(variance = 1) so $\\sigma$ = 1. From [Wolfram](https://mathworld.wolfram.com/NormalDistribution.html) we know the pdf of zero-mean unity variance normal distribution to be $$P_1(x) = \\frac{1}{\\sqrt{2\\pi}}e^{-x_1^2/2}$$ Thus, a ratio of the two distributions will give $$P_{1,2} = e^{(x_2^2-x_1^2)/2}$$\n",
    "\n",
    "__2C)__ 2D Guassian given by $X\\hat{i}+Y\\hat{j}$ where both $X$ and $Y$ are drawn from 1D Gaussian distributions. Pdf from measuring the amplitude of this vector.\n",
    "\n",
    ">The amplitude of a vector can be taken as $\\sqrt{X^2+Y^2}$ which will always be positive. Looking at multivariate normal distributions on [Wikipedia](https://en.wikipedia.org/wiki/Multivariate_normal_distribution), we can find the pdf of a 2-dimensional case given as: \n",
    "<img src=\"Images/image1.png\" width=\"600\">."
   ]
  }
 ],
 "metadata": {
  "kernelspec": {
   "display_name": "Python 3",
   "language": "python",
   "name": "python3"
  },
  "language_info": {
   "codemirror_mode": {
    "name": "ipython",
    "version": 3
   },
   "file_extension": ".py",
   "mimetype": "text/x-python",
   "name": "python",
   "nbconvert_exporter": "python",
   "pygments_lexer": "ipython3",
   "version": "3.7.4"
  }
 },
 "nbformat": 4,
 "nbformat_minor": 4
}
